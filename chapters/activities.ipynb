{
 "cells": [
  {
   "cell_type": "code",
   "execution_count": 1,
   "metadata": {},
   "outputs": [
    {
     "name": "stdout",
     "output_type": "stream",
     "text": [
      "Fuente \t No. serie \t A0(kBq) \t\t Actividad1(kBq) \t Actividad2(kBq) \t Actividad2(uCi)\n",
      "22Na \t L1-052 \t 1020.0 \t\t 66.554 \t\t 72.644 \t\t  1.963\n",
      "22Na \t L1-053 \t 1100.0 \t\t 71.774 \t\t 78.342 \t\t  2.117\n",
      "22Na \t D-112-1 \t   31.9 \t\t  0.277 \t\t  0.303 \t\t  0.008\n",
      "137Cs \t D-110-20 \t   35.0 \t\t 23.139 \t\t 23.315 \t\t  0.630\n",
      "137Cs \t 7204CP \t 37000.0 \t\t 30790.372 \t\t 31024.442 \t\t 838.498\n",
      "57Co \t D-107-23 \t   50.2 \t\t  0.000 \t\t  0.000 \t\t  0.000\n",
      "57Co \t 8280-18-01 \t   40.7 \t\t  0.132 \t\t  0.179 \t\t  0.005\n",
      "60Co \t D-111-13 \t   34.8 \t\t  3.309 \t\t  3.455 \t\t  0.093\n",
      "133Ba \t D-111-17 \t   31.3 \t\t  9.627 \t\t  9.838 \t\t  0.266\n",
      "22Na \t W4-433 \t 1981.0 \t\t 1697.320 \t\t 1852.493 \t\t 50.067\n",
      "57Co \t W4-430 \t 1038.0 \t\t 604.491 \t\t 820.918 \t\t 22.187\n",
      "133Ba \t W4-429 \t  953.9 \t\t 918.286 \t\t 938.278 \t\t 25.359\n",
      "54Mn \t W4-431 \t  997.5 \t\t 623.108 \t\t 813.267 \t\t 21.980\n",
      "88Y \t W4-432 \t  999.7 \t\t 251.980 \t\t 549.721 \t\t 14.857\n"
     ]
    }
   ],
   "source": [
    "#Código para calcular la actividad de las fuentes del GFNUN\n",
    "\n",
    "import numpy as np\n",
    "from datetime import datetime\n",
    "\n",
    "def Activity(dt, A0, tau):\n",
    "  Act = A0*np.exp(-dt/tau)\n",
    "  return Act\n",
    "\n",
    "source = ['22Na;L1-052', '22Na;L1-053', '22Na;D-112-1', '137Cs;D-110-20', '137Cs;7204CP',\n",
    "          '57Co;D-107-23', '57Co;8280-18-01', '60Co;D-111-13', '133Ba;D-111-17',\n",
    "          '22Na;W4-433', '57Co;W4-430', '133Ba;W4-429', '54Mn;W4-431', '88Y;W4-432']\n",
    "\n",
    "half_life = np.concatenate(([950]*3,[10983]*2,[271.79]*2,[1925.4],[3842.43],\n",
    "                            [950.8, 271.79, 3862, 312.3, 106.63])) # days\n",
    "mean_lt = half_life/np.log(2)\n",
    "fechaRef = np.concatenate((['01-02-2014','01-02-2014','10-07-2006','18-05-2006','11-05-2016',\n",
    "                            '08-03-2006','05-03-2018','08-06-2006','08-06-2006'],['01-10-2023']*5))\n",
    "A0 = np.concatenate(([1020, 1100, 31.9, 35.0, 37000, 50.2, 40.7, 34.8, 31.3],\n",
    "                     [1981, 1038, 953.9, 997.5, 999.7])) # kBq\n",
    "\n",
    "# Coloque aquí una o dos fechas en las cuales quiere conocer la actividad de las fuentes\n",
    "fecha1 = datetime.strptime(\"2024-04-30\", \"%Y-%m-%d\")\n",
    "fecha2 = datetime.strptime(\"2024-01-01\", \"%Y-%m-%d\")\n",
    "\n",
    "print('Fuente','\\t', 'No. serie','\\t', 'A0(kBq)','\\t\\t', 'Actividad1(kBq)',\n",
    "      '\\t', 'Actividad2(kBq)','\\t', 'Actividad2(uCi)')\n",
    "for i in range(len(source)):\n",
    "  fecha0 = datetime.strptime(fechaRef[i], \"%d-%m-%Y\")\n",
    "  diferencia1 = fecha1-fecha0; days1 = diferencia1.days\n",
    "  diferencia2 = fecha2-fecha0; days2 = diferencia2.days\n",
    "  ac1 = Activity(days1,A0[i],mean_lt[i])\n",
    "  ac2 = Activity(days2,A0[i],mean_lt[i])\n",
    "  ac2Ci = ac2*(1/37) # 1 uCi = 37 kBq\n",
    "  print(source[i].split(\";\")[0],'\\t',source[i].split(\";\")[1],'\\t','{0:6.1f}'.format(A0[i]),\n",
    "        '\\t\\t','{0:6.3f}'.format(ac1),'\\t\\t','{0:6.3f}'.format(ac2),'\\t\\t','{0:6.3f}'.format(ac2Ci))"
   ]
  }
 ],
 "metadata": {
  "kernelspec": {
   "display_name": "Python 3",
   "language": "python",
   "name": "python3"
  },
  "language_info": {
   "codemirror_mode": {
    "name": "ipython",
    "version": 3
   },
   "file_extension": ".py",
   "mimetype": "text/x-python",
   "name": "python",
   "nbconvert_exporter": "python",
   "pygments_lexer": "ipython3",
   "version": "3.11.9"
  }
 },
 "nbformat": 4,
 "nbformat_minor": 2
}
